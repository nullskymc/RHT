{
 "cells": [
  {
   "cell_type": "code",
   "execution_count": 1,
   "metadata": {},
   "outputs": [],
   "source": [
    "import cv2\n",
    "import numpy as np\n",
    "\n",
    "# 读取图像并转换为灰度图\n",
    "image = cv2.imread('testdata/0859.jpg')\n",
    "gray = cv2.cvtColor(image, cv2.COLOR_BGR2GRAY)\n",
    "\n",
    "# 应用高斯模糊来减少噪声\n",
    "blurred = cv2.GaussianBlur(gray, (5, 5), 0)\n",
    "\n",
    "# 使用Canny边缘检测\n",
    "edges = cv2.Canny(blurred, 50, 150)\n"
   ]
  },
  {
   "cell_type": "code",
   "execution_count": 3,
   "metadata": {},
   "outputs": [],
   "source": [
    "# 检测圆\n",
    "circles = cv2.HoughCircles(edges, cv2.HOUGH_GRADIENT, dp=1, minDist=20, param1=50, param2=30, minRadius=0, maxRadius=0)\n",
    "\n",
    "# 如果检测到圆\n",
    "if circles is not None:\n",
    "    circles = np.uint16(np.around(circles))\n",
    "    for i in circles[0, :]:\n",
    "        # 绘制圆\n",
    "        center = (i[0], i[1])\n",
    "        radius = i[2]\n",
    "        cv2.circle(image, center, radius, (0, 255, 0), 2)\n",
    "        # 绘制圆心\n",
    "        cv2.circle(image, center, 2, (0, 0, 255), 3)\n"
   ]
  },
  {
   "cell_type": "code",
   "execution_count": null,
   "metadata": {},
   "outputs": [],
   "source": [
    "# 查找轮廓\n",
    "contours, _ = cv2.findContours(edges, cv2.RETR_TREE, cv2.CHAIN_APPROX_SIMPLE)\n",
    "\n",
    "for contour in contours:\n",
    "    if len(contour) >= 5:  # 拟合椭圆需要至少5个点\n",
    "        ellipse = cv2.fitEllipse(contour)\n",
    "        cv2.ellipse(image, ellipse, (0, 255, 0), 2)\n",
    "\n",
    "# 显示结果\n",
    "cv2.imshow('Detected Ellipses', image)\n",
    "cv2.waitKey(0)\n",
    "cv2.destroyAllWindows()\n"
   ]
  }
 ],
 "metadata": {
  "kernelspec": {
   "display_name": "RHT",
   "language": "python",
   "name": "python3"
  },
  "language_info": {
   "codemirror_mode": {
    "name": "ipython",
    "version": 3
   },
   "file_extension": ".py",
   "mimetype": "text/x-python",
   "name": "python",
   "nbconvert_exporter": "python",
   "pygments_lexer": "ipython3",
   "version": "3.10.12"
  }
 },
 "nbformat": 4,
 "nbformat_minor": 2
}
